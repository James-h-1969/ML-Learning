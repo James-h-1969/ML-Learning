{
 "cells": [
  {
   "cell_type": "markdown",
   "metadata": {},
   "source": [
    "$$\n",
    "    \\LARGE\n",
    "    \\text{Machine Learning Journey - James Hocking} \\\\\n",
    "    \\normalsize\n",
    "    \\text{This report will outline the process of learning ML and AI using a combination of coding and Math. } \\\\ \\text{It will display several projects in order to develop skills and understanding relating to nerual networks, etc.}\n",
    "\n",
    "$$"
   ]
  },
  {
   "cell_type": "code",
   "execution_count": null,
   "metadata": {},
   "outputs": [],
   "source": []
  }
 ],
 "metadata": {
  "language_info": {
   "name": "python"
  }
 },
 "nbformat": 4,
 "nbformat_minor": 2
}
