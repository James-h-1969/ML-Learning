{
  "nbformat": 4,
  "nbformat_minor": 0,
  "metadata": {
    "colab": {
      "provenance": [],
      "authorship_tag": "ABX9TyMPDZ8KVuh0v6wjK9bAyoJX",
      "include_colab_link": true
    },
    "kernelspec": {
      "name": "python3",
      "display_name": "Python 3"
    },
    "language_info": {
      "name": "python"
    }
  },
  "cells": [
    {
      "cell_type": "markdown",
      "metadata": {
        "id": "view-in-github",
        "colab_type": "text"
      },
      "source": [
        "<a href=\"https://colab.research.google.com/github/James-h-1969/ML-Learning/blob/main/AI.ipynb\" target=\"_parent\"><img src=\"https://colab.research.google.com/assets/colab-badge.svg\" alt=\"Open In Colab\"/></a>"
      ]
    },
    {
      "cell_type": "markdown",
      "source": [
        "$$\n",
        "  \\LARGE\n",
        "  \\text{Learning ML} \\\\\n",
        "  \\normalsize\n",
        "  \\text{This notebook will document the process of James Hocking's ML journey, using Python and Math. It will include several projects in order to develop his understanding and skills. } \\\\ \\\\\n",
        "$$"
      ],
      "metadata": {
        "id": "82ikyW1VX4v9"
      }
    },
    {
      "cell_type": "markdown",
      "source": [
        "$$\n",
        "  \\Large\n",
        "  \\text{Project 1 - Recognising Numbers} \\\\\n",
        "  \\normalsize\n",
        "  \\text{This project will create a network that takes the input of a X by X pixel image, and} \\\\ \\text{returns what number (0-9) that it recognises. }\n",
        "$$"
      ],
      "metadata": {
        "id": "oScYONZgZfma"
      }
    },
    {
      "cell_type": "code",
      "execution_count": null,
      "metadata": {
        "id": "licfXfhkX0lv"
      },
      "outputs": [],
      "source": []
    }
  ]
}